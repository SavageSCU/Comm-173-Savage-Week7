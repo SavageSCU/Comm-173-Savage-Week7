{
 "cells": [
  {
   "cell_type": "code",
   "execution_count": 1,
   "id": "7d2e92ce",
   "metadata": {},
   "outputs": [
    {
     "name": "stderr",
     "output_type": "stream",
     "text": [
      "[nltk_data] Downloading package stopwords to\n",
      "[nltk_data]     /Users/charlessavage/nltk_data...\n",
      "[nltk_data]   Unzipping corpora/stopwords.zip.\n"
     ]
    }
   ],
   "source": [
    "import pandas as pd\n",
    "import nltk.corpus\n",
    "nltk.download('stopwords')\n",
    "from nltk.corpus import stopwords"
   ]
  },
  {
   "cell_type": "code",
   "execution_count": 2,
   "id": "12c75849",
   "metadata": {},
   "outputs": [],
   "source": [
    "df = pd.read_csv('video_comment_likes.csv')"
   ]
  },
  {
   "cell_type": "code",
   "execution_count": 3,
   "id": "9819984e",
   "metadata": {},
   "outputs": [],
   "source": [
    "stop_words = stopwords.words('english')"
   ]
  },
  {
   "cell_type": "code",
   "execution_count": 14,
   "id": "bd313ed1",
   "metadata": {},
   "outputs": [
    {
     "data": {
      "text/html": [
       "<div>\n",
       "<style scoped>\n",
       "    .dataframe tbody tr th:only-of-type {\n",
       "        vertical-align: middle;\n",
       "    }\n",
       "\n",
       "    .dataframe tbody tr th {\n",
       "        vertical-align: top;\n",
       "    }\n",
       "\n",
       "    .dataframe thead th {\n",
       "        text-align: right;\n",
       "    }\n",
       "</style>\n",
       "<table border=\"1\" class=\"dataframe\">\n",
       "  <thead>\n",
       "    <tr style=\"text-align: right;\">\n",
       "      <th></th>\n",
       "      <th>Link</th>\n",
       "      <th>Title</th>\n",
       "      <th>Comment</th>\n",
       "      <th>Likes</th>\n",
       "    </tr>\n",
       "  </thead>\n",
       "  <tbody>\n",
       "    <tr>\n",
       "      <th>0</th>\n",
       "      <td>https://www.youtube.com/watch?v=3qTZnwRbFY0&amp;pp...</td>\n",
       "      <td>This Is Why Costco Only Charges $5 For A Rotis...</td>\n",
       "      <td>Are you a fan of that Costco chicken? Why or w...</td>\n",
       "      <td>727</td>\n",
       "    </tr>\n",
       "    <tr>\n",
       "      <th>1</th>\n",
       "      <td>https://www.youtube.com/watch?v=3qTZnwRbFY0&amp;pp...</td>\n",
       "      <td>This Is Why Costco Only Charges $5 For A Rotis...</td>\n",
       "      <td>My mom once went in Costco for a rotisserie ch...</td>\n",
       "      <td>1.2K</td>\n",
       "    </tr>\n",
       "    <tr>\n",
       "      <th>2</th>\n",
       "      <td>https://www.youtube.com/watch?v=3qTZnwRbFY0&amp;pp...</td>\n",
       "      <td>This Is Why Costco Only Charges $5 For A Rotis...</td>\n",
       "      <td>I feel like Costco played the system. They are...</td>\n",
       "      <td>40</td>\n",
       "    </tr>\n",
       "    <tr>\n",
       "      <th>3</th>\n",
       "      <td>https://www.youtube.com/watch?v=3qTZnwRbFY0&amp;pp...</td>\n",
       "      <td>This Is Why Costco Only Charges $5 For A Rotis...</td>\n",
       "      <td>Costco is doing it right. I once planned on ju...</td>\n",
       "      <td>22</td>\n",
       "    </tr>\n",
       "    <tr>\n",
       "      <th>4</th>\n",
       "      <td>https://www.youtube.com/watch?v=3qTZnwRbFY0&amp;pp...</td>\n",
       "      <td>This Is Why Costco Only Charges $5 For A Rotis...</td>\n",
       "      <td>Before I retired from my regular work, getting...</td>\n",
       "      <td>19</td>\n",
       "    </tr>\n",
       "  </tbody>\n",
       "</table>\n",
       "</div>"
      ],
      "text/plain": [
       "                                                Link  \\\n",
       "0  https://www.youtube.com/watch?v=3qTZnwRbFY0&pp...   \n",
       "1  https://www.youtube.com/watch?v=3qTZnwRbFY0&pp...   \n",
       "2  https://www.youtube.com/watch?v=3qTZnwRbFY0&pp...   \n",
       "3  https://www.youtube.com/watch?v=3qTZnwRbFY0&pp...   \n",
       "4  https://www.youtube.com/watch?v=3qTZnwRbFY0&pp...   \n",
       "\n",
       "                                               Title  \\\n",
       "0  This Is Why Costco Only Charges $5 For A Rotis...   \n",
       "1  This Is Why Costco Only Charges $5 For A Rotis...   \n",
       "2  This Is Why Costco Only Charges $5 For A Rotis...   \n",
       "3  This Is Why Costco Only Charges $5 For A Rotis...   \n",
       "4  This Is Why Costco Only Charges $5 For A Rotis...   \n",
       "\n",
       "                                             Comment Likes  \n",
       "0  Are you a fan of that Costco chicken? Why or w...   727  \n",
       "1  My mom once went in Costco for a rotisserie ch...  1.2K  \n",
       "2  I feel like Costco played the system. They are...    40  \n",
       "3  Costco is doing it right. I once planned on ju...    22  \n",
       "4  Before I retired from my regular work, getting...    19  "
      ]
     },
     "execution_count": 14,
     "metadata": {},
     "output_type": "execute_result"
    }
   ],
   "source": [
    "df.head()"
   ]
  },
  {
   "cell_type": "code",
   "execution_count": 18,
   "id": "b53210ab",
   "metadata": {},
   "outputs": [],
   "source": [
    "\",\".join(stopwords.words('english'))\n",
    "def remove_stop(x):\n",
    "    return \",\".join([word for word in str(x).split() if word not in stop_words])\n",
    "df['Comment']=df['Comment'].apply(lambda x : remove_stop(x))"
   ]
  },
  {
   "cell_type": "code",
   "execution_count": 19,
   "id": "ae16b46a",
   "metadata": {},
   "outputs": [
    {
     "data": {
      "text/html": [
       "<div>\n",
       "<style scoped>\n",
       "    .dataframe tbody tr th:only-of-type {\n",
       "        vertical-align: middle;\n",
       "    }\n",
       "\n",
       "    .dataframe tbody tr th {\n",
       "        vertical-align: top;\n",
       "    }\n",
       "\n",
       "    .dataframe thead th {\n",
       "        text-align: right;\n",
       "    }\n",
       "</style>\n",
       "<table border=\"1\" class=\"dataframe\">\n",
       "  <thead>\n",
       "    <tr style=\"text-align: right;\">\n",
       "      <th></th>\n",
       "      <th>Link</th>\n",
       "      <th>Title</th>\n",
       "      <th>Comment</th>\n",
       "      <th>Likes</th>\n",
       "    </tr>\n",
       "  </thead>\n",
       "  <tbody>\n",
       "    <tr>\n",
       "      <th>0</th>\n",
       "      <td>https://www.youtube.com/watch?v=3qTZnwRbFY0&amp;pp...</td>\n",
       "      <td>This Is Why Costco Only Charges $5 For A Rotis...</td>\n",
       "      <td>Are,fan,Costco,chicken?,Why,not?</td>\n",
       "      <td>727</td>\n",
       "    </tr>\n",
       "    <tr>\n",
       "      <th>1</th>\n",
       "      <td>https://www.youtube.com/watch?v=3qTZnwRbFY0&amp;pp...</td>\n",
       "      <td>This Is Why Costco Only Charges $5 For A Rotis...</td>\n",
       "      <td>My,mom,went,Costco,rotisserie,chicken,came,liv...</td>\n",
       "      <td>1.2K</td>\n",
       "    </tr>\n",
       "    <tr>\n",
       "      <th>2</th>\n",
       "      <td>https://www.youtube.com/watch?v=3qTZnwRbFY0&amp;pp...</td>\n",
       "      <td>This Is Why Costco Only Charges $5 For A Rotis...</td>\n",
       "      <td>I,feel,like,Costco,played,system.,They,able,pr...</td>\n",
       "      <td>40</td>\n",
       "    </tr>\n",
       "    <tr>\n",
       "      <th>3</th>\n",
       "      <td>https://www.youtube.com/watch?v=3qTZnwRbFY0&amp;pp...</td>\n",
       "      <td>This Is Why Costco Only Charges $5 For A Rotis...</td>\n",
       "      <td>Costco,right.,I,planned,buying,$12,make,wipes,...</td>\n",
       "      <td>22</td>\n",
       "    </tr>\n",
       "    <tr>\n",
       "      <th>4</th>\n",
       "      <td>https://www.youtube.com/watch?v=3qTZnwRbFY0&amp;pp...</td>\n",
       "      <td>This Is Why Costco Only Charges $5 For A Rotis...</td>\n",
       "      <td>Before,I,retired,regular,work,,getting,hot,,fr...</td>\n",
       "      <td>19</td>\n",
       "    </tr>\n",
       "  </tbody>\n",
       "</table>\n",
       "</div>"
      ],
      "text/plain": [
       "                                                Link  \\\n",
       "0  https://www.youtube.com/watch?v=3qTZnwRbFY0&pp...   \n",
       "1  https://www.youtube.com/watch?v=3qTZnwRbFY0&pp...   \n",
       "2  https://www.youtube.com/watch?v=3qTZnwRbFY0&pp...   \n",
       "3  https://www.youtube.com/watch?v=3qTZnwRbFY0&pp...   \n",
       "4  https://www.youtube.com/watch?v=3qTZnwRbFY0&pp...   \n",
       "\n",
       "                                               Title  \\\n",
       "0  This Is Why Costco Only Charges $5 For A Rotis...   \n",
       "1  This Is Why Costco Only Charges $5 For A Rotis...   \n",
       "2  This Is Why Costco Only Charges $5 For A Rotis...   \n",
       "3  This Is Why Costco Only Charges $5 For A Rotis...   \n",
       "4  This Is Why Costco Only Charges $5 For A Rotis...   \n",
       "\n",
       "                                             Comment Likes  \n",
       "0                   Are,fan,Costco,chicken?,Why,not?   727  \n",
       "1  My,mom,went,Costco,rotisserie,chicken,came,liv...  1.2K  \n",
       "2  I,feel,like,Costco,played,system.,They,able,pr...    40  \n",
       "3  Costco,right.,I,planned,buying,$12,make,wipes,...    22  \n",
       "4  Before,I,retired,regular,work,,getting,hot,,fr...    19  "
      ]
     },
     "execution_count": 19,
     "metadata": {},
     "output_type": "execute_result"
    }
   ],
   "source": [
    "df.head()"
   ]
  },
  {
   "cell_type": "code",
   "execution_count": 20,
   "id": "f08a98a6",
   "metadata": {},
   "outputs": [],
   "source": [
    "df.to_csv('week7_remove_stopwords_comments_likes2.csv' , index=False)"
   ]
  },
  {
   "cell_type": "code",
   "execution_count": null,
   "id": "eb11e863",
   "metadata": {},
   "outputs": [],
   "source": []
  }
 ],
 "metadata": {
  "kernelspec": {
   "display_name": "Python 3 (ipykernel)",
   "language": "python",
   "name": "python3"
  },
  "language_info": {
   "codemirror_mode": {
    "name": "ipython",
    "version": 3
   },
   "file_extension": ".py",
   "mimetype": "text/x-python",
   "name": "python",
   "nbconvert_exporter": "python",
   "pygments_lexer": "ipython3",
   "version": "3.10.9"
  }
 },
 "nbformat": 4,
 "nbformat_minor": 5
}
