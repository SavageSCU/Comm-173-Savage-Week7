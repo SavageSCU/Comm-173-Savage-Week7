{
 "cells": [
  {
   "cell_type": "code",
   "execution_count": 16,
   "id": "06a5f61f",
   "metadata": {},
   "outputs": [],
   "source": [
    "import pandas as pd\n",
    "import seaborn as sns\n",
    "import matplotlib.pyplot as plt\n",
    "plt.style.use('bmh')\n",
    "\n",
    "df = pd.read_csv('week7_remove_stopwords_comments_likes2.csv')\n"
   ]
  },
  {
   "cell_type": "code",
   "execution_count": 17,
   "id": "bd0506be",
   "metadata": {},
   "outputs": [
    {
     "data": {
      "text/html": [
       "<div>\n",
       "<style scoped>\n",
       "    .dataframe tbody tr th:only-of-type {\n",
       "        vertical-align: middle;\n",
       "    }\n",
       "\n",
       "    .dataframe tbody tr th {\n",
       "        vertical-align: top;\n",
       "    }\n",
       "\n",
       "    .dataframe thead th {\n",
       "        text-align: right;\n",
       "    }\n",
       "</style>\n",
       "<table border=\"1\" class=\"dataframe\">\n",
       "  <thead>\n",
       "    <tr style=\"text-align: right;\">\n",
       "      <th></th>\n",
       "      <th>Link</th>\n",
       "      <th>Title</th>\n",
       "      <th>Comment</th>\n",
       "      <th>Likes</th>\n",
       "    </tr>\n",
       "  </thead>\n",
       "  <tbody>\n",
       "    <tr>\n",
       "      <th>785</th>\n",
       "      <td>https://www.youtube.com/watch?v=3qTZnwRbFY0&amp;pp...</td>\n",
       "      <td>This Is Why Costco Only Charges $5 For A Rotis...</td>\n",
       "      <td>GMO,Food</td>\n",
       "      <td>2</td>\n",
       "    </tr>\n",
       "    <tr>\n",
       "      <th>301</th>\n",
       "      <td>https://www.youtube.com/watch?v=3qTZnwRbFY0&amp;pp...</td>\n",
       "      <td>This Is Why Costco Only Charges $5 For A Rotis...</td>\n",
       "      <td>get,boneless,skinless,chicken,breast,$2/lb,Wal...</td>\n",
       "      <td>NaN</td>\n",
       "    </tr>\n",
       "    <tr>\n",
       "      <th>2631</th>\n",
       "      <td>https://www.youtube.com/watch?v=2QYJQDeOWNA&amp;pp...</td>\n",
       "      <td>Eating A COSTCO ROTISSERIE CHICKEN In The Car</td>\n",
       "      <td>Our,wife's,English,point!!</td>\n",
       "      <td>NaN</td>\n",
       "    </tr>\n",
       "    <tr>\n",
       "      <th>2364</th>\n",
       "      <td>https://www.youtube.com/watch?v=gkc6DBUdfr8&amp;pp...</td>\n",
       "      <td>Hauling In Big Savings At The Dollar Tree!</td>\n",
       "      <td>Great,use,gift,baskets!</td>\n",
       "      <td>NaN</td>\n",
       "    </tr>\n",
       "    <tr>\n",
       "      <th>105</th>\n",
       "      <td>https://www.youtube.com/watch?v=3qTZnwRbFY0&amp;pp...</td>\n",
       "      <td>This Is Why Costco Only Charges $5 For A Rotis...</td>\n",
       "      <td>I,recommend,going,Wegmans,/,Publix,they're,are...</td>\n",
       "      <td>NaN</td>\n",
       "    </tr>\n",
       "  </tbody>\n",
       "</table>\n",
       "</div>"
      ],
      "text/plain": [
       "                                                   Link  \\\n",
       "785   https://www.youtube.com/watch?v=3qTZnwRbFY0&pp...   \n",
       "301   https://www.youtube.com/watch?v=3qTZnwRbFY0&pp...   \n",
       "2631  https://www.youtube.com/watch?v=2QYJQDeOWNA&pp...   \n",
       "2364  https://www.youtube.com/watch?v=gkc6DBUdfr8&pp...   \n",
       "105   https://www.youtube.com/watch?v=3qTZnwRbFY0&pp...   \n",
       "\n",
       "                                                  Title  \\\n",
       "785   This Is Why Costco Only Charges $5 For A Rotis...   \n",
       "301   This Is Why Costco Only Charges $5 For A Rotis...   \n",
       "2631      Eating A COSTCO ROTISSERIE CHICKEN In The Car   \n",
       "2364         Hauling In Big Savings At The Dollar Tree!   \n",
       "105   This Is Why Costco Only Charges $5 For A Rotis...   \n",
       "\n",
       "                                                Comment Likes  \n",
       "785                                            GMO,Food     2  \n",
       "301   get,boneless,skinless,chicken,breast,$2/lb,Wal...   NaN  \n",
       "2631                         Our,wife's,English,point!!   NaN  \n",
       "2364                            Great,use,gift,baskets!   NaN  \n",
       "105   I,recommend,going,Wegmans,/,Publix,they're,are...   NaN  "
      ]
     },
     "execution_count": 17,
     "metadata": {},
     "output_type": "execute_result"
    }
   ],
   "source": [
    "df.sample(5)"
   ]
  },
  {
   "cell_type": "code",
   "execution_count": 37,
   "id": "ffe97785",
   "metadata": {},
   "outputs": [
    {
     "data": {
      "text/plain": [
       "Index(['Comment', 'Likes'], dtype='object')"
      ]
     },
     "execution_count": 37,
     "metadata": {},
     "output_type": "execute_result"
    }
   ],
   "source": [
    "df.columns"
   ]
  },
  {
   "cell_type": "code",
   "execution_count": 40,
   "id": "33c8507a",
   "metadata": {},
   "outputs": [
    {
     "name": "stdout",
     "output_type": "stream",
     "text": [
      "(3721, 2)\n"
     ]
    },
    {
     "data": {
      "text/html": [
       "<div>\n",
       "<style scoped>\n",
       "    .dataframe tbody tr th:only-of-type {\n",
       "        vertical-align: middle;\n",
       "    }\n",
       "\n",
       "    .dataframe tbody tr th {\n",
       "        vertical-align: top;\n",
       "    }\n",
       "\n",
       "    .dataframe thead th {\n",
       "        text-align: right;\n",
       "    }\n",
       "</style>\n",
       "<table border=\"1\" class=\"dataframe\">\n",
       "  <thead>\n",
       "    <tr style=\"text-align: right;\">\n",
       "      <th></th>\n",
       "      <th>Likes</th>\n",
       "      <th>Comment</th>\n",
       "    </tr>\n",
       "  </thead>\n",
       "  <tbody>\n",
       "    <tr>\n",
       "      <th>0</th>\n",
       "      <td>727</td>\n",
       "      <td>Are,fan,Costco,chicken?,Why,not?</td>\n",
       "    </tr>\n",
       "    <tr>\n",
       "      <th>1</th>\n",
       "      <td>1.2K</td>\n",
       "      <td>My,mom,went,Costco,rotisserie,chicken,came,liv...</td>\n",
       "    </tr>\n",
       "    <tr>\n",
       "      <th>2</th>\n",
       "      <td>40</td>\n",
       "      <td>I,feel,like,Costco,played,system.,They,able,pr...</td>\n",
       "    </tr>\n",
       "    <tr>\n",
       "      <th>3</th>\n",
       "      <td>22</td>\n",
       "      <td>Costco,right.,I,planned,buying,$12,make,wipes,...</td>\n",
       "    </tr>\n",
       "    <tr>\n",
       "      <th>4</th>\n",
       "      <td>19</td>\n",
       "      <td>Before,I,retired,regular,work,,getting,hot,,fr...</td>\n",
       "    </tr>\n",
       "  </tbody>\n",
       "</table>\n",
       "</div>"
      ],
      "text/plain": [
       "  Likes                                            Comment\n",
       "0   727                   Are,fan,Costco,chicken?,Why,not?\n",
       "1  1.2K  My,mom,went,Costco,rotisserie,chicken,came,liv...\n",
       "2    40  I,feel,like,Costco,played,system.,They,able,pr...\n",
       "3    22  Costco,right.,I,planned,buying,$12,make,wipes,...\n",
       "4    19  Before,I,retired,regular,work,,getting,hot,,fr..."
      ]
     },
     "execution_count": 40,
     "metadata": {},
     "output_type": "execute_result"
    }
   ],
   "source": [
    "review_df = df[['Likes','Comment']]\n",
    "review_df = review_df[review_df['Comment'] != 'neutral']\n",
    "print(review_df.shape)\n",
    "review_df.head(5)"
   ]
  },
  {
   "cell_type": "code",
   "execution_count": 43,
   "id": "58c300be",
   "metadata": {},
   "outputs": [
    {
     "name": "stderr",
     "output_type": "stream",
     "text": [
      "/var/folders/98/w08jp2wx2bs00t4_b3lhk4qw0000gn/T/ipykernel_78690/1134722465.py:1: FutureWarning: The default value of numeric_only in DataFrame.corr is deprecated. In a future version, it will default to False. Select only valid columns or specify the value of numeric_only to silence this warning.\n",
      "  df.corr()\n"
     ]
    },
    {
     "data": {
      "text/html": [
       "<div>\n",
       "<style scoped>\n",
       "    .dataframe tbody tr th:only-of-type {\n",
       "        vertical-align: middle;\n",
       "    }\n",
       "\n",
       "    .dataframe tbody tr th {\n",
       "        vertical-align: top;\n",
       "    }\n",
       "\n",
       "    .dataframe thead th {\n",
       "        text-align: right;\n",
       "    }\n",
       "</style>\n",
       "<table border=\"1\" class=\"dataframe\">\n",
       "  <thead>\n",
       "    <tr style=\"text-align: right;\">\n",
       "      <th></th>\n",
       "    </tr>\n",
       "  </thead>\n",
       "  <tbody>\n",
       "  </tbody>\n",
       "</table>\n",
       "</div>"
      ],
      "text/plain": [
       "Empty DataFrame\n",
       "Columns: []\n",
       "Index: []"
      ]
     },
     "execution_count": 43,
     "metadata": {},
     "output_type": "execute_result"
    }
   ],
   "source": [
    "df.corr()"
   ]
  },
  {
   "cell_type": "code",
   "execution_count": 41,
   "id": "646736e8",
   "metadata": {},
   "outputs": [],
   "source": [
    "d = df.corr(method='pearson', min_periods=1, numeric_only=True)"
   ]
  },
  {
   "cell_type": "code",
   "execution_count": 42,
   "id": "23385380",
   "metadata": {},
   "outputs": [
    {
     "name": "stdout",
     "output_type": "stream",
     "text": [
      "Empty DataFrame\n",
      "Columns: []\n",
      "Index: []\n"
     ]
    }
   ],
   "source": [
    "print(d)"
   ]
  },
  {
   "cell_type": "code",
   "execution_count": null,
   "id": "c3c443e1",
   "metadata": {},
   "outputs": [],
   "source": []
  }
 ],
 "metadata": {
  "kernelspec": {
   "display_name": "Python 3 (ipykernel)",
   "language": "python",
   "name": "python3"
  },
  "language_info": {
   "codemirror_mode": {
    "name": "ipython",
    "version": 3
   },
   "file_extension": ".py",
   "mimetype": "text/x-python",
   "name": "python",
   "nbconvert_exporter": "python",
   "pygments_lexer": "ipython3",
   "version": "3.10.9"
  }
 },
 "nbformat": 4,
 "nbformat_minor": 5
}
