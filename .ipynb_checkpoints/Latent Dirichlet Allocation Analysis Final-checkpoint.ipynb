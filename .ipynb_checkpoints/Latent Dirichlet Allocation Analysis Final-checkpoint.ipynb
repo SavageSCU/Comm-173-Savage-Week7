{
 "cells": [
  {
   "cell_type": "code",
   "execution_count": 1,
   "id": "36cd6dce",
   "metadata": {},
   "outputs": [
    {
     "name": "stderr",
     "output_type": "stream",
     "text": [
      "[nltk_data] Downloading package wordnet to\n",
      "[nltk_data]     /Users/charlessavage/nltk_data...\n",
      "[nltk_data]   Package wordnet is already up-to-date!\n"
     ]
    },
    {
     "data": {
      "text/plain": [
       "True"
      ]
     },
     "execution_count": 1,
     "metadata": {},
     "output_type": "execute_result"
    }
   ],
   "source": [
    "import gensim\n",
    "from gensim import corpora\n",
    "from gensim.models import LdaModel\n",
    "from gensim.utils import simple_preprocess\n",
    "from gensim.parsing.preprocessing import STOPWORDS\n",
    "import nltk\n",
    "nltk.download('wordnet')"
   ]
  },
  {
   "cell_type": "code",
   "execution_count": 2,
   "id": "6d841093",
   "metadata": {},
   "outputs": [
    {
     "ename": "SyntaxError",
     "evalue": "cannot assign to expression (1527400544.py, line 3)",
     "output_type": "error",
     "traceback": [
      "\u001b[0;36m  Cell \u001b[0;32mIn[2], line 3\u001b[0;36m\u001b[0m\n\u001b[0;31m    for token not in STOPWORDS and len(token) > 3:\u001b[0m\n\u001b[0m        ^\u001b[0m\n\u001b[0;31mSyntaxError\u001b[0m\u001b[0;31m:\u001b[0m cannot assign to expression\n"
     ]
    }
   ],
   "source": [
    "def preprocess(text):\n",
    "    result = []\n",
    "    for token not in STOPWORDS and len(token) > 3:\n",
    "        result.append(token)\n",
    "    return result\n",
    "\n",
    "processed_vids = [preprocess(vid)] for vid in videos\n",
    "\n",
    "dictionary = corpora.Dictionary(processed_vids)\n",
    "\n",
    "vid_term_matrix = [dictionary.vid2bow(vid) for doc in processed_vids]\n",
    "\n",
    "num_categories = 8\n",
    "passes = 10\n",
    "\n",
    "lda_model = LdaModel(vid_term_matrix, num_categories=num_categories, id2word=dictionary, passes=passes)\n",
    "\n",
    "categories = lda_model.print_categories(num_categories)\n",
    "\n",
    "for categories in categories\n"
   ]
  },
  {
   "cell_type": "code",
   "execution_count": null,
   "id": "d5763262",
   "metadata": {},
   "outputs": [],
   "source": []
  }
 ],
 "metadata": {
  "kernelspec": {
   "display_name": "Python 3 (ipykernel)",
   "language": "python",
   "name": "python3"
  },
  "language_info": {
   "codemirror_mode": {
    "name": "ipython",
    "version": 3
   },
   "file_extension": ".py",
   "mimetype": "text/x-python",
   "name": "python",
   "nbconvert_exporter": "python",
   "pygments_lexer": "ipython3",
   "version": "3.10.9"
  }
 },
 "nbformat": 4,
 "nbformat_minor": 5
}
