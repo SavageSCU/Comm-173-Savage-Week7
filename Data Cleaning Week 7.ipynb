{
 "cells": [
  {
   "cell_type": "code",
   "execution_count": 1,
   "id": "aa0117e1",
   "metadata": {},
   "outputs": [],
   "source": [
    "import pandas as pd\n",
    "import numpy as np"
   ]
  },
  {
   "cell_type": "code",
   "execution_count": 2,
   "id": "32138afd",
   "metadata": {},
   "outputs": [
    {
     "data": {
      "text/html": [
       "<div>\n",
       "<style scoped>\n",
       "    .dataframe tbody tr th:only-of-type {\n",
       "        vertical-align: middle;\n",
       "    }\n",
       "\n",
       "    .dataframe tbody tr th {\n",
       "        vertical-align: top;\n",
       "    }\n",
       "\n",
       "    .dataframe thead th {\n",
       "        text-align: right;\n",
       "    }\n",
       "</style>\n",
       "<table border=\"1\" class=\"dataframe\">\n",
       "  <thead>\n",
       "    <tr style=\"text-align: right;\">\n",
       "      <th></th>\n",
       "      <th>link</th>\n",
       "      <th>title</th>\n",
       "      <th>description</th>\n",
       "      <th>category</th>\n",
       "    </tr>\n",
       "  </thead>\n",
       "  <tbody>\n",
       "    <tr>\n",
       "      <th>0</th>\n",
       "      <td>https://www.youtube.com/watch?v=3qTZnwRbFY0&amp;pp...</td>\n",
       "      <td>This Is Why Costco Only Charges $5 For A Rotis...</td>\n",
       "      <td>NaN</td>\n",
       "      <td>costco_rotisserie_chicken</td>\n",
       "    </tr>\n",
       "    <tr>\n",
       "      <th>1</th>\n",
       "      <td>https://www.youtube.com/watch?v=jBFMDZ5ugd4&amp;pp...</td>\n",
       "      <td>Removing Meat from a Costco Rotisserie Chicken</td>\n",
       "      <td>NaN</td>\n",
       "      <td>costco_rotisserie_chicken</td>\n",
       "    </tr>\n",
       "    <tr>\n",
       "      <th>2</th>\n",
       "      <td>https://www.youtube.com/watch?v=gXjcwnEpILg&amp;pp...</td>\n",
       "      <td>Don't Eat Another Costco Rotisserie Chicken Un...</td>\n",
       "      <td>NaN</td>\n",
       "      <td>costco_rotisserie_chicken</td>\n",
       "    </tr>\n",
       "    <tr>\n",
       "      <th>3</th>\n",
       "      <td>https://www.youtube.com/watch?v=qkRAUoYLeaU&amp;pp...</td>\n",
       "      <td>Pro Chef Turns 2 Rotisserie Chickens Into 4 Me...</td>\n",
       "      <td>NaN</td>\n",
       "      <td>costco_rotisserie_chicken</td>\n",
       "    </tr>\n",
       "    <tr>\n",
       "      <th>4</th>\n",
       "      <td>https://www.youtube.com/watch?v=L_2jL8vNiNM&amp;pp...</td>\n",
       "      <td>The Big Problem Costco Shoppers Are Currently ...</td>\n",
       "      <td>NaN</td>\n",
       "      <td>costco_rotisserie_chicken</td>\n",
       "    </tr>\n",
       "  </tbody>\n",
       "</table>\n",
       "</div>"
      ],
      "text/plain": [
       "                                                link  \\\n",
       "0  https://www.youtube.com/watch?v=3qTZnwRbFY0&pp...   \n",
       "1  https://www.youtube.com/watch?v=jBFMDZ5ugd4&pp...   \n",
       "2  https://www.youtube.com/watch?v=gXjcwnEpILg&pp...   \n",
       "3  https://www.youtube.com/watch?v=qkRAUoYLeaU&pp...   \n",
       "4  https://www.youtube.com/watch?v=L_2jL8vNiNM&pp...   \n",
       "\n",
       "                                               title  description  \\\n",
       "0  This Is Why Costco Only Charges $5 For A Rotis...          NaN   \n",
       "1     Removing Meat from a Costco Rotisserie Chicken          NaN   \n",
       "2  Don't Eat Another Costco Rotisserie Chicken Un...          NaN   \n",
       "3  Pro Chef Turns 2 Rotisserie Chickens Into 4 Me...          NaN   \n",
       "4  The Big Problem Costco Shoppers Are Currently ...          NaN   \n",
       "\n",
       "                    category  \n",
       "0  costco_rotisserie_chicken  \n",
       "1  costco_rotisserie_chicken  \n",
       "2  costco_rotisserie_chicken  \n",
       "3  costco_rotisserie_chicken  \n",
       "4  costco_rotisserie_chicken  "
      ]
     },
     "execution_count": 2,
     "metadata": {},
     "output_type": "execute_result"
    }
   ],
   "source": [
    "df = pd.read_csv('comm173_costco_rotisserie_chicken.csv')\n",
    "df.head()"
   ]
  },
  {
   "cell_type": "code",
   "execution_count": 3,
   "id": "e8add7e9",
   "metadata": {},
   "outputs": [],
   "source": [
    "to_drop = ['description', 'category']\n",
    "df.drop(to_drop, inplace=True, axis=1)"
   ]
  },
  {
   "cell_type": "code",
   "execution_count": 4,
   "id": "3fff1780",
   "metadata": {},
   "outputs": [
    {
     "data": {
      "text/html": [
       "<div>\n",
       "<style scoped>\n",
       "    .dataframe tbody tr th:only-of-type {\n",
       "        vertical-align: middle;\n",
       "    }\n",
       "\n",
       "    .dataframe tbody tr th {\n",
       "        vertical-align: top;\n",
       "    }\n",
       "\n",
       "    .dataframe thead th {\n",
       "        text-align: right;\n",
       "    }\n",
       "</style>\n",
       "<table border=\"1\" class=\"dataframe\">\n",
       "  <thead>\n",
       "    <tr style=\"text-align: right;\">\n",
       "      <th></th>\n",
       "      <th>link</th>\n",
       "      <th>title</th>\n",
       "    </tr>\n",
       "  </thead>\n",
       "  <tbody>\n",
       "    <tr>\n",
       "      <th>0</th>\n",
       "      <td>https://www.youtube.com/watch?v=3qTZnwRbFY0&amp;pp...</td>\n",
       "      <td>This Is Why Costco Only Charges $5 For A Rotis...</td>\n",
       "    </tr>\n",
       "    <tr>\n",
       "      <th>1</th>\n",
       "      <td>https://www.youtube.com/watch?v=jBFMDZ5ugd4&amp;pp...</td>\n",
       "      <td>Removing Meat from a Costco Rotisserie Chicken</td>\n",
       "    </tr>\n",
       "    <tr>\n",
       "      <th>2</th>\n",
       "      <td>https://www.youtube.com/watch?v=gXjcwnEpILg&amp;pp...</td>\n",
       "      <td>Don't Eat Another Costco Rotisserie Chicken Un...</td>\n",
       "    </tr>\n",
       "    <tr>\n",
       "      <th>3</th>\n",
       "      <td>https://www.youtube.com/watch?v=qkRAUoYLeaU&amp;pp...</td>\n",
       "      <td>Pro Chef Turns 2 Rotisserie Chickens Into 4 Me...</td>\n",
       "    </tr>\n",
       "    <tr>\n",
       "      <th>4</th>\n",
       "      <td>https://www.youtube.com/watch?v=L_2jL8vNiNM&amp;pp...</td>\n",
       "      <td>The Big Problem Costco Shoppers Are Currently ...</td>\n",
       "    </tr>\n",
       "  </tbody>\n",
       "</table>\n",
       "</div>"
      ],
      "text/plain": [
       "                                                link  \\\n",
       "0  https://www.youtube.com/watch?v=3qTZnwRbFY0&pp...   \n",
       "1  https://www.youtube.com/watch?v=jBFMDZ5ugd4&pp...   \n",
       "2  https://www.youtube.com/watch?v=gXjcwnEpILg&pp...   \n",
       "3  https://www.youtube.com/watch?v=qkRAUoYLeaU&pp...   \n",
       "4  https://www.youtube.com/watch?v=L_2jL8vNiNM&pp...   \n",
       "\n",
       "                                               title  \n",
       "0  This Is Why Costco Only Charges $5 For A Rotis...  \n",
       "1     Removing Meat from a Costco Rotisserie Chicken  \n",
       "2  Don't Eat Another Costco Rotisserie Chicken Un...  \n",
       "3  Pro Chef Turns 2 Rotisserie Chickens Into 4 Me...  \n",
       "4  The Big Problem Costco Shoppers Are Currently ...  "
      ]
     },
     "execution_count": 4,
     "metadata": {},
     "output_type": "execute_result"
    }
   ],
   "source": [
    "df.head()"
   ]
  },
  {
   "cell_type": "code",
   "execution_count": 9,
   "id": "1238c9c0",
   "metadata": {
    "scrolled": false
   },
   "outputs": [],
   "source": [
    "df.to_csv('week7_datacleaning_costcochicken.csv' , index=False)"
   ]
  },
  {
   "cell_type": "code",
   "execution_count": null,
   "id": "39db6fff",
   "metadata": {},
   "outputs": [],
   "source": []
  }
 ],
 "metadata": {
  "kernelspec": {
   "display_name": "Python 3 (ipykernel)",
   "language": "python",
   "name": "python3"
  },
  "language_info": {
   "codemirror_mode": {
    "name": "ipython",
    "version": 3
   },
   "file_extension": ".py",
   "mimetype": "text/x-python",
   "name": "python",
   "nbconvert_exporter": "python",
   "pygments_lexer": "ipython3",
   "version": "3.10.9"
  }
 },
 "nbformat": 4,
 "nbformat_minor": 5
}
