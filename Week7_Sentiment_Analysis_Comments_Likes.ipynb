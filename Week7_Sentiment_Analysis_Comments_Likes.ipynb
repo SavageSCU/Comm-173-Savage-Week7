{
 "cells": [
  {
   "cell_type": "code",
   "execution_count": 8,
   "id": "46811fc9",
   "metadata": {},
   "outputs": [
    {
     "name": "stderr",
     "output_type": "stream",
     "text": [
      "[nltk_data] Downloading package stopwords to\n",
      "[nltk_data]     /Users/charlessavage/nltk_data...\n",
      "[nltk_data]   Package stopwords is already up-to-date!\n"
     ]
    }
   ],
   "source": [
    "import pandas as pd\n",
    "import nltk.corpus\n",
    "nltk.download('stopwords')\n",
    "from nltk.corpus import stopwords"
   ]
  },
  {
   "cell_type": "code",
   "execution_count": 9,
   "id": "fced6cc0",
   "metadata": {},
   "outputs": [],
   "source": [
    "df = pd.read_csv('video_comment_likes.csv')"
   ]
  },
  {
   "cell_type": "code",
   "execution_count": 10,
   "id": "b4b32446",
   "metadata": {},
   "outputs": [],
   "source": [
    "stop_words = stopwords.words('english')"
   ]
  },
  {
   "cell_type": "code",
   "execution_count": 11,
   "id": "d54864ff",
   "metadata": {},
   "outputs": [
    {
     "data": {
      "text/html": [
       "<div>\n",
       "<style scoped>\n",
       "    .dataframe tbody tr th:only-of-type {\n",
       "        vertical-align: middle;\n",
       "    }\n",
       "\n",
       "    .dataframe tbody tr th {\n",
       "        vertical-align: top;\n",
       "    }\n",
       "\n",
       "    .dataframe thead th {\n",
       "        text-align: right;\n",
       "    }\n",
       "</style>\n",
       "<table border=\"1\" class=\"dataframe\">\n",
       "  <thead>\n",
       "    <tr style=\"text-align: right;\">\n",
       "      <th></th>\n",
       "      <th>Link</th>\n",
       "      <th>Title</th>\n",
       "      <th>Comment</th>\n",
       "      <th>Likes</th>\n",
       "    </tr>\n",
       "  </thead>\n",
       "  <tbody>\n",
       "    <tr>\n",
       "      <th>0</th>\n",
       "      <td>https://www.youtube.com/watch?v=3qTZnwRbFY0&amp;pp...</td>\n",
       "      <td>This Is Why Costco Only Charges $5 For A Rotis...</td>\n",
       "      <td>Are you a fan of that Costco chicken? Why or w...</td>\n",
       "      <td>727</td>\n",
       "    </tr>\n",
       "    <tr>\n",
       "      <th>1</th>\n",
       "      <td>https://www.youtube.com/watch?v=3qTZnwRbFY0&amp;pp...</td>\n",
       "      <td>This Is Why Costco Only Charges $5 For A Rotis...</td>\n",
       "      <td>My mom once went in Costco for a rotisserie ch...</td>\n",
       "      <td>1.2K</td>\n",
       "    </tr>\n",
       "    <tr>\n",
       "      <th>2</th>\n",
       "      <td>https://www.youtube.com/watch?v=3qTZnwRbFY0&amp;pp...</td>\n",
       "      <td>This Is Why Costco Only Charges $5 For A Rotis...</td>\n",
       "      <td>I feel like Costco played the system. They are...</td>\n",
       "      <td>40</td>\n",
       "    </tr>\n",
       "    <tr>\n",
       "      <th>3</th>\n",
       "      <td>https://www.youtube.com/watch?v=3qTZnwRbFY0&amp;pp...</td>\n",
       "      <td>This Is Why Costco Only Charges $5 For A Rotis...</td>\n",
       "      <td>Costco is doing it right. I once planned on ju...</td>\n",
       "      <td>22</td>\n",
       "    </tr>\n",
       "    <tr>\n",
       "      <th>4</th>\n",
       "      <td>https://www.youtube.com/watch?v=3qTZnwRbFY0&amp;pp...</td>\n",
       "      <td>This Is Why Costco Only Charges $5 For A Rotis...</td>\n",
       "      <td>Before I retired from my regular work, getting...</td>\n",
       "      <td>19</td>\n",
       "    </tr>\n",
       "  </tbody>\n",
       "</table>\n",
       "</div>"
      ],
      "text/plain": [
       "                                                Link  \\\n",
       "0  https://www.youtube.com/watch?v=3qTZnwRbFY0&pp...   \n",
       "1  https://www.youtube.com/watch?v=3qTZnwRbFY0&pp...   \n",
       "2  https://www.youtube.com/watch?v=3qTZnwRbFY0&pp...   \n",
       "3  https://www.youtube.com/watch?v=3qTZnwRbFY0&pp...   \n",
       "4  https://www.youtube.com/watch?v=3qTZnwRbFY0&pp...   \n",
       "\n",
       "                                               Title  \\\n",
       "0  This Is Why Costco Only Charges $5 For A Rotis...   \n",
       "1  This Is Why Costco Only Charges $5 For A Rotis...   \n",
       "2  This Is Why Costco Only Charges $5 For A Rotis...   \n",
       "3  This Is Why Costco Only Charges $5 For A Rotis...   \n",
       "4  This Is Why Costco Only Charges $5 For A Rotis...   \n",
       "\n",
       "                                             Comment Likes  \n",
       "0  Are you a fan of that Costco chicken? Why or w...   727  \n",
       "1  My mom once went in Costco for a rotisserie ch...  1.2K  \n",
       "2  I feel like Costco played the system. They are...    40  \n",
       "3  Costco is doing it right. I once planned on ju...    22  \n",
       "4  Before I retired from my regular work, getting...    19  "
      ]
     },
     "execution_count": 11,
     "metadata": {},
     "output_type": "execute_result"
    }
   ],
   "source": [
    "df.head()"
   ]
  },
  {
   "cell_type": "code",
   "execution_count": 12,
   "id": "6b698c33",
   "metadata": {},
   "outputs": [],
   "source": [
    "\",\".join(stopwords.words('english'))\n",
    "def remove_stop(x):\n",
    "    return \",\".join([word for word in str(x).split() if word not in stop_words])\n",
    "df['Comment']=df['Comment'].apply(lambda x : remove_stop(x))"
   ]
  },
  {
   "cell_type": "code",
   "execution_count": 13,
   "id": "762365b5",
   "metadata": {
    "scrolled": true
   },
   "outputs": [
    {
     "data": {
      "text/html": [
       "<div>\n",
       "<style scoped>\n",
       "    .dataframe tbody tr th:only-of-type {\n",
       "        vertical-align: middle;\n",
       "    }\n",
       "\n",
       "    .dataframe tbody tr th {\n",
       "        vertical-align: top;\n",
       "    }\n",
       "\n",
       "    .dataframe thead th {\n",
       "        text-align: right;\n",
       "    }\n",
       "</style>\n",
       "<table border=\"1\" class=\"dataframe\">\n",
       "  <thead>\n",
       "    <tr style=\"text-align: right;\">\n",
       "      <th></th>\n",
       "      <th>Link</th>\n",
       "      <th>Title</th>\n",
       "      <th>Comment</th>\n",
       "      <th>Likes</th>\n",
       "    </tr>\n",
       "  </thead>\n",
       "  <tbody>\n",
       "    <tr>\n",
       "      <th>0</th>\n",
       "      <td>https://www.youtube.com/watch?v=3qTZnwRbFY0&amp;pp...</td>\n",
       "      <td>This Is Why Costco Only Charges $5 For A Rotis...</td>\n",
       "      <td>Are,fan,Costco,chicken?,Why,not?</td>\n",
       "      <td>727</td>\n",
       "    </tr>\n",
       "    <tr>\n",
       "      <th>1</th>\n",
       "      <td>https://www.youtube.com/watch?v=3qTZnwRbFY0&amp;pp...</td>\n",
       "      <td>This Is Why Costco Only Charges $5 For A Rotis...</td>\n",
       "      <td>My,mom,went,Costco,rotisserie,chicken,came,liv...</td>\n",
       "      <td>1.2K</td>\n",
       "    </tr>\n",
       "    <tr>\n",
       "      <th>2</th>\n",
       "      <td>https://www.youtube.com/watch?v=3qTZnwRbFY0&amp;pp...</td>\n",
       "      <td>This Is Why Costco Only Charges $5 For A Rotis...</td>\n",
       "      <td>I,feel,like,Costco,played,system.,They,able,pr...</td>\n",
       "      <td>40</td>\n",
       "    </tr>\n",
       "    <tr>\n",
       "      <th>3</th>\n",
       "      <td>https://www.youtube.com/watch?v=3qTZnwRbFY0&amp;pp...</td>\n",
       "      <td>This Is Why Costco Only Charges $5 For A Rotis...</td>\n",
       "      <td>Costco,right.,I,planned,buying,$12,make,wipes,...</td>\n",
       "      <td>22</td>\n",
       "    </tr>\n",
       "    <tr>\n",
       "      <th>4</th>\n",
       "      <td>https://www.youtube.com/watch?v=3qTZnwRbFY0&amp;pp...</td>\n",
       "      <td>This Is Why Costco Only Charges $5 For A Rotis...</td>\n",
       "      <td>Before,I,retired,regular,work,,getting,hot,,fr...</td>\n",
       "      <td>19</td>\n",
       "    </tr>\n",
       "  </tbody>\n",
       "</table>\n",
       "</div>"
      ],
      "text/plain": [
       "                                                Link  \\\n",
       "0  https://www.youtube.com/watch?v=3qTZnwRbFY0&pp...   \n",
       "1  https://www.youtube.com/watch?v=3qTZnwRbFY0&pp...   \n",
       "2  https://www.youtube.com/watch?v=3qTZnwRbFY0&pp...   \n",
       "3  https://www.youtube.com/watch?v=3qTZnwRbFY0&pp...   \n",
       "4  https://www.youtube.com/watch?v=3qTZnwRbFY0&pp...   \n",
       "\n",
       "                                               Title  \\\n",
       "0  This Is Why Costco Only Charges $5 For A Rotis...   \n",
       "1  This Is Why Costco Only Charges $5 For A Rotis...   \n",
       "2  This Is Why Costco Only Charges $5 For A Rotis...   \n",
       "3  This Is Why Costco Only Charges $5 For A Rotis...   \n",
       "4  This Is Why Costco Only Charges $5 For A Rotis...   \n",
       "\n",
       "                                             Comment Likes  \n",
       "0                   Are,fan,Costco,chicken?,Why,not?   727  \n",
       "1  My,mom,went,Costco,rotisserie,chicken,came,liv...  1.2K  \n",
       "2  I,feel,like,Costco,played,system.,They,able,pr...    40  \n",
       "3  Costco,right.,I,planned,buying,$12,make,wipes,...    22  \n",
       "4  Before,I,retired,regular,work,,getting,hot,,fr...    19  "
      ]
     },
     "execution_count": 13,
     "metadata": {},
     "output_type": "execute_result"
    }
   ],
   "source": [
    "df.head()"
   ]
  },
  {
   "cell_type": "code",
   "execution_count": 15,
   "id": "bab4f3ec",
   "metadata": {},
   "outputs": [
    {
     "name": "stderr",
     "output_type": "stream",
     "text": [
      "[nltk_data] Downloading package wordnet to\n",
      "[nltk_data]     /Users/charlessavage/nltk_data...\n",
      "[nltk_data]   Package wordnet is already up-to-date!\n"
     ]
    },
    {
     "data": {
      "text/plain": [
       "True"
      ]
     },
     "execution_count": 15,
     "metadata": {},
     "output_type": "execute_result"
    }
   ],
   "source": [
    "nltk.download('wordnet')"
   ]
  },
  {
   "cell_type": "code",
   "execution_count": 16,
   "id": "5025182d",
   "metadata": {},
   "outputs": [],
   "source": [
    "from nltk.stem import PorterStemmer , WordNetLemmatizer"
   ]
  },
  {
   "cell_type": "code",
   "execution_count": 17,
   "id": "cf5cfb5d",
   "metadata": {},
   "outputs": [],
   "source": [
    "df = pd.read_csv('week7_remove_stopwords_comments_likes2.csv')"
   ]
  },
  {
   "cell_type": "code",
   "execution_count": 20,
   "id": "ab70d8af",
   "metadata": {},
   "outputs": [],
   "source": [
    "comments = df['Comment']"
   ]
  },
  {
   "cell_type": "code",
   "execution_count": 21,
   "id": "4e6e7516",
   "metadata": {},
   "outputs": [],
   "source": [
    "lemmatizer = WordNetLemmatizer()\n",
    "stemmer = PorterStemmer()"
   ]
  },
  {
   "cell_type": "code",
   "execution_count": 22,
   "id": "c5bb3b3a",
   "metadata": {},
   "outputs": [
    {
     "name": "stderr",
     "output_type": "stream",
     "text": [
      "[nltk_data] Downloading package punkt to\n",
      "[nltk_data]     /Users/charlessavage/nltk_data...\n",
      "[nltk_data]   Unzipping tokenizers/punkt.zip.\n"
     ]
    },
    {
     "data": {
      "text/plain": [
       "True"
      ]
     },
     "execution_count": 22,
     "metadata": {},
     "output_type": "execute_result"
    }
   ],
   "source": [
    "nltk.download('punkt')"
   ]
  },
  {
   "cell_type": "code",
   "execution_count": 23,
   "id": "21f0c483",
   "metadata": {},
   "outputs": [
    {
     "name": "stderr",
     "output_type": "stream",
     "text": [
      "[nltk_data] Downloading package wordnet to\n",
      "[nltk_data]     /Users/charlessavage/nltk_data...\n",
      "[nltk_data]   Package wordnet is already up-to-date!\n",
      "[nltk_data] Error loading averaged_perception_tagger: Package\n",
      "[nltk_data]     'averaged_perception_tagger' not found in index\n"
     ]
    }
   ],
   "source": [
    "stopwords.update([\"br\"],[\"href\"])\n",
    "\n",
    "wordcloud = WordCloud(stopwords=stopwords).generate(text)"
   ]
  },
  {
   "cell_type": "code",
   "execution_count": null,
   "id": "70634845",
   "metadata": {},
   "outputs": [],
   "source": []
  },
  {
   "cell_type": "code",
   "execution_count": 14,
   "id": "a32519da",
   "metadata": {},
   "outputs": [],
   "source": [
    "df.to_csv('week7_sentiment_analysis_comments_likes.csv' , index=False)"
   ]
  },
  {
   "cell_type": "code",
   "execution_count": null,
   "id": "1180ca71",
   "metadata": {},
   "outputs": [],
   "source": []
  }
 ],
 "metadata": {
  "kernelspec": {
   "display_name": "Python 3 (ipykernel)",
   "language": "python",
   "name": "python3"
  },
  "language_info": {
   "codemirror_mode": {
    "name": "ipython",
    "version": 3
   },
   "file_extension": ".py",
   "mimetype": "text/x-python",
   "name": "python",
   "nbconvert_exporter": "python",
   "pygments_lexer": "ipython3",
   "version": "3.10.9"
  }
 },
 "nbformat": 4,
 "nbformat_minor": 5
}
