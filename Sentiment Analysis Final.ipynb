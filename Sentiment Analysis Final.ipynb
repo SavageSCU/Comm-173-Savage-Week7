{
 "cells": [
  {
   "cell_type": "code",
   "execution_count": null,
   "id": "2cbe3b78",
   "metadata": {},
   "outputs": [],
   "source": [
    "import nltk\n",
    "from nltk.sentiment import SentimentIntensityAnalyzer\n",
    "import pandas as pd"
   ]
  },
  {
   "cell_type": "code",
   "execution_count": null,
   "id": "fa4f5d95",
   "metadata": {},
   "outputs": [],
   "source": [
    "nltk.download('vader_lexicon')"
   ]
  },
  {
   "cell_type": "code",
   "execution_count": null,
   "id": "f3fbd13e",
   "metadata": {},
   "outputs": [],
   "source": [
    "sia = SentimentIntensityAnalyzer()"
   ]
  },
  {
   "cell_type": "code",
   "execution_count": null,
   "id": "be1ef0e8",
   "metadata": {},
   "outputs": [],
   "source": [
    "comments_df = pd.read_csv('comments.csv')"
   ]
  },
  {
   "cell_type": "code",
   "execution_count": null,
   "id": "101a7fa9",
   "metadata": {},
   "outputs": [],
   "source": [
    "comments = comments_df['comment_text'.].tolist()\n",
    "\n",
    "sentiment_scores = []"
   ]
  },
  {
   "cell_type": "code",
   "execution_count": null,
   "id": "2e249101",
   "metadata": {},
   "outputs": [],
   "source": [
    "for comment in comments:\n",
    "    sentiment_scores.append(sia.polarity_scores(comment))"
   ]
  },
  {
   "cell_type": "code",
   "execution_count": null,
   "id": "56ba2d64",
   "metadata": {},
   "outputs": [],
   "source": [
    "sentiment_df = pd.DataFrame(sentiment_scores)\n",
    "results_df = pd.concat([comments_df, sentiment_df], axis=1)"
   ]
  }
 ],
 "metadata": {
  "kernelspec": {
   "display_name": "Python 3 (ipykernel)",
   "language": "python",
   "name": "python3"
  },
  "language_info": {
   "codemirror_mode": {
    "name": "ipython",
    "version": 3
   },
   "file_extension": ".py",
   "mimetype": "text/x-python",
   "name": "python",
   "nbconvert_exporter": "python",
   "pygments_lexer": "ipython3",
   "version": "3.10.9"
  }
 },
 "nbformat": 4,
 "nbformat_minor": 5
}
