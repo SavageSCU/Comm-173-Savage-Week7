{
 "cells": [
  {
   "cell_type": "code",
   "execution_count": 1,
   "id": "78e16612",
   "metadata": {},
   "outputs": [
    {
     "name": "stdout",
     "output_type": "stream",
     "text": [
      "Requirement already satisfied: selenium in /Users/charlessavage/anaconda3/lib/python3.10/site-packages (4.9.1)\n",
      "Requirement already satisfied: urllib3[socks]<3,>=1.26 in /Users/charlessavage/anaconda3/lib/python3.10/site-packages (from selenium) (1.26.14)\n",
      "Requirement already satisfied: trio~=0.17 in /Users/charlessavage/anaconda3/lib/python3.10/site-packages (from selenium) (0.22.0)\n",
      "Requirement already satisfied: certifi>=2021.10.8 in /Users/charlessavage/anaconda3/lib/python3.10/site-packages (from selenium) (2022.12.7)\n",
      "Requirement already satisfied: trio-websocket~=0.9 in /Users/charlessavage/anaconda3/lib/python3.10/site-packages (from selenium) (0.10.2)\n",
      "Requirement already satisfied: idna in /Users/charlessavage/anaconda3/lib/python3.10/site-packages (from trio~=0.17->selenium) (3.4)\n",
      "Requirement already satisfied: exceptiongroup>=1.0.0rc9 in /Users/charlessavage/anaconda3/lib/python3.10/site-packages (from trio~=0.17->selenium) (1.1.1)\n",
      "Requirement already satisfied: attrs>=19.2.0 in /Users/charlessavage/anaconda3/lib/python3.10/site-packages (from trio~=0.17->selenium) (22.1.0)\n",
      "Requirement already satisfied: async-generator>=1.9 in /Users/charlessavage/anaconda3/lib/python3.10/site-packages (from trio~=0.17->selenium) (1.10)\n",
      "Requirement already satisfied: sniffio in /Users/charlessavage/anaconda3/lib/python3.10/site-packages (from trio~=0.17->selenium) (1.2.0)\n",
      "Requirement already satisfied: outcome in /Users/charlessavage/anaconda3/lib/python3.10/site-packages (from trio~=0.17->selenium) (1.2.0)\n",
      "Requirement already satisfied: sortedcontainers in /Users/charlessavage/anaconda3/lib/python3.10/site-packages (from trio~=0.17->selenium) (2.4.0)\n",
      "Requirement already satisfied: wsproto>=0.14 in /Users/charlessavage/anaconda3/lib/python3.10/site-packages (from trio-websocket~=0.9->selenium) (1.2.0)\n",
      "Requirement already satisfied: PySocks!=1.5.7,<2.0,>=1.5.6 in /Users/charlessavage/anaconda3/lib/python3.10/site-packages (from urllib3[socks]<3,>=1.26->selenium) (1.7.1)\n",
      "Requirement already satisfied: h11<1,>=0.9.0 in /Users/charlessavage/anaconda3/lib/python3.10/site-packages (from wsproto>=0.14->trio-websocket~=0.9->selenium) (0.14.0)\n",
      "Note: you may need to restart the kernel to use updated packages.\n"
     ]
    }
   ],
   "source": [
    "pip install selenium"
   ]
  },
  {
   "cell_type": "code",
   "execution_count": 2,
   "id": "b2639398",
   "metadata": {},
   "outputs": [],
   "source": [
    "from selenium import webdriver\n",
    "import pandas as pd\n",
    "from selenium.webdriver.common.by import By\n",
    "from selenium.webdriver.support.ui import WebDriverWait\n",
    "from selenium.webdriver.support import expected_conditions as EC\n",
    "from selenium.webdriver.common.keys import Keys\n",
    "import time"
   ]
  },
  {
   "cell_type": "code",
   "execution_count": 3,
   "id": "2b784c3b",
   "metadata": {},
   "outputs": [],
   "source": [
    "url = 'https://www.youtube.com/results?search_query=Costco+Rotisserie+Chicken'"
   ]
  },
  {
   "cell_type": "code",
   "execution_count": 4,
   "id": "6ca08bf4",
   "metadata": {},
   "outputs": [
    {
     "name": "stderr",
     "output_type": "stream",
     "text": [
      "/var/folders/98/w08jp2wx2bs00t4_b3lhk4qw0000gn/T/ipykernel_55508/1557009794.py:1: DeprecationWarning: executable_path has been deprecated, please pass in a Service object\n",
      "  driver = webdriver.Chrome(('/Users/charlessavage/Documents/Comm173/chromedriver'))\n"
     ]
    }
   ],
   "source": [
    "driver = webdriver.Chrome(('/Users/charlessavage/Documents/Comm173/chromedriver'))\n",
    "driver.get(url)"
   ]
  },
  {
   "cell_type": "code",
   "execution_count": 5,
   "id": "7b3506c8",
   "metadata": {},
   "outputs": [],
   "source": [
    "def scroll_to_bottom(driver):\n",
    "    old_position = 0\n",
    "    new_position = None\n",
    "    \n",
    "    while (new_position != old_position):\n",
    "        old_position = driver.execute_script((\"return (window.pageYOffset !== undefined) ?\"\n",
    "                                            \" window.pageYOffset : (document.documentElement ||\"\n",
    "                                            \" document.body.parentNode || document.body);\"))\n",
    "        time.sleep(5)\n",
    "       \n",
    "        driver.execute_script((\"var scrollingElement = (document.scrollingElement ||\"\n",
    "                              \" document.body);scrollingElement.scrollTop = \"\n",
    "                              \" scrollingElement.scrollHeight\"))\n",
    "        \n",
    "        time.sleep(5)\n",
    "  \n",
    "        new_position = driver.execute_script((\"return (window.pageYOffset !== undefined) ?\"\n",
    "                                             \" window.pageYOffset : (document.documentElement ||\"\n",
    "                                             \" document.body.parentNode || documentBody);\"))"
   ]
  },
  {
   "cell_type": "code",
   "execution_count": 8,
   "id": "08b06a84",
   "metadata": {},
   "outputs": [],
   "source": [
    "scroll_to_bottom(driver)"
   ]
  },
  {
   "cell_type": "code",
   "execution_count": 9,
   "id": "d4184f3a",
   "metadata": {},
   "outputs": [],
   "source": [
    "user_data = driver.find_elements(by=By.XPATH,value='//*[@id=\"video-title\"]')"
   ]
  },
  {
   "cell_type": "code",
   "execution_count": 10,
   "id": "a71e2c82",
   "metadata": {},
   "outputs": [
    {
     "name": "stdout",
     "output_type": "stream",
     "text": [
      "664\n"
     ]
    }
   ],
   "source": [
    "print(len(user_data))"
   ]
  },
  {
   "cell_type": "code",
   "execution_count": 11,
   "id": "f46f4a90",
   "metadata": {},
   "outputs": [
    {
     "name": "stdout",
     "output_type": "stream",
     "text": [
      "551\n"
     ]
    }
   ],
   "source": [
    "links = []\n",
    "for i in user_data:\n",
    "    if (i.get_attribute('href') != None):\n",
    "        links.append(i.get_attribute('href'))\n",
    "\n",
    "print(len(links))"
   ]
  },
  {
   "cell_type": "code",
   "execution_count": 12,
   "id": "2a89b14b",
   "metadata": {},
   "outputs": [],
   "source": [
    "df = pd.DataFrame(columns = ['link', 'title', 'description', 'category'])"
   ]
  },
  {
   "cell_type": "code",
   "execution_count": 14,
   "id": "98e46d49",
   "metadata": {},
   "outputs": [],
   "source": [
    "v_category = \"costco_rotisserie_chicken\"\n",
    "\n",
    "wait = WebDriverWait(driver, 50)\n",
    "\n",
    "for x in links:\n",
    "    driver.get(x)\n",
    "    v_id = x\n",
    "    v_title = wait.until(EC.presence_of_element_located(\n",
    "                   (By.CSS_SELECTOR,\"h1.style-scope.ytd-watch-metadata yt-formatted-string\"))).text\n",
    "\n",
    "    v_description =  wait.until(EC.presence_of_element_located(\n",
    "                                (By.CSS_SELECTOR,\"div#snippet yt-formatted-string\"))).text\n",
    "\n",
    "    \n",
    "    df.loc[len(df)] = [v_id, v_title, v_description, v_category]"
   ]
  },
  {
   "cell_type": "code",
   "execution_count": 15,
   "id": "bede339d",
   "metadata": {},
   "outputs": [],
   "source": [
    "driver.quit()"
   ]
  },
  {
   "cell_type": "code",
   "execution_count": 16,
   "id": "265942fc",
   "metadata": {},
   "outputs": [
    {
     "name": "stdout",
     "output_type": "stream",
     "text": [
      "                                                  link  \\\n",
      "0    https://www.youtube.com/watch?v=3qTZnwRbFY0&pp...   \n",
      "1    https://www.youtube.com/watch?v=jBFMDZ5ugd4&pp...   \n",
      "2    https://www.youtube.com/watch?v=gXjcwnEpILg&pp...   \n",
      "3    https://www.youtube.com/watch?v=qkRAUoYLeaU&pp...   \n",
      "4    https://www.youtube.com/watch?v=L_2jL8vNiNM&pp...   \n",
      "..                                                 ...   \n",
      "546  https://www.youtube.com/watch?v=wfq5o9rqEeU&pp...   \n",
      "547  https://www.youtube.com/watch?v=lEAewKPzZQk&pp...   \n",
      "548  https://www.youtube.com/watch?v=X06eLv6PZcI&pp...   \n",
      "549  https://www.youtube.com/watch?v=_LhVDt-qG-8&pp...   \n",
      "550  https://www.youtube.com/watch?v=IyWSnvgIs6s&pp...   \n",
      "\n",
      "                                                 title description  \\\n",
      "0    This Is Why Costco Only Charges $5 For A Rotis...               \n",
      "1       Removing Meat from a Costco Rotisserie Chicken               \n",
      "2    Don't Eat Another Costco Rotisserie Chicken Un...               \n",
      "3    Pro Chef Turns 2 Rotisserie Chickens Into 4 Me...               \n",
      "4    The Big Problem Costco Shoppers Are Currently ...               \n",
      "..                                                 ...         ...   \n",
      "546                      We Opened A New Restaurant!!!               \n",
      "547  I review viewers' skirts. (...and UruMaid appe...               \n",
      "548  [마블 스냅] \"마음껏 비웃어 그 비웃음 환호성으로 바꿔줄테니깐\" 가디언의 최고 히...               \n",
      "549  Culver's Drive Thru, Pot Roast Sandwich Meal, ...               \n",
      "550  Eating Culver's Pot Roast Sandwich & Mashed Po...               \n",
      "\n",
      "                      category  \n",
      "0    costco_rotisserie_chicken  \n",
      "1    costco_rotisserie_chicken  \n",
      "2    costco_rotisserie_chicken  \n",
      "3    costco_rotisserie_chicken  \n",
      "4    costco_rotisserie_chicken  \n",
      "..                         ...  \n",
      "546  costco_rotisserie_chicken  \n",
      "547  costco_rotisserie_chicken  \n",
      "548  costco_rotisserie_chicken  \n",
      "549  costco_rotisserie_chicken  \n",
      "550  costco_rotisserie_chicken  \n",
      "\n",
      "[551 rows x 4 columns]\n"
     ]
    }
   ],
   "source": [
    "print(df)"
   ]
  },
  {
   "cell_type": "code",
   "execution_count": 17,
   "id": "17e5fb19",
   "metadata": {},
   "outputs": [],
   "source": [
    "df.to_csv('comm173_costco_rotisserie_chicken.csv' , index=False)"
   ]
  },
  {
   "cell_type": "code",
   "execution_count": null,
   "id": "8dd2ce08",
   "metadata": {},
   "outputs": [],
   "source": []
  }
 ],
 "metadata": {
  "kernelspec": {
   "display_name": "Python 3 (ipykernel)",
   "language": "python",
   "name": "python3"
  },
  "language_info": {
   "codemirror_mode": {
    "name": "ipython",
    "version": 3
   },
   "file_extension": ".py",
   "mimetype": "text/x-python",
   "name": "python",
   "nbconvert_exporter": "python",
   "pygments_lexer": "ipython3",
   "version": "3.10.9"
  }
 },
 "nbformat": 4,
 "nbformat_minor": 5
}
